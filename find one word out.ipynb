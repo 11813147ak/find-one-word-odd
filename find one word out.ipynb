{
 "cells": [
  {
   "cell_type": "code",
   "execution_count": 36,
   "metadata": {},
   "outputs": [],
   "source": [
    "import numpy as np\n",
    "import gensim\n",
    "from gensim.models import word2vec\n",
    "from gensim.models import KeyedVectors\n",
    "from sklearn.metrics.pairwise import cosine_similarity"
   ]
  },
  {
   "cell_type": "code",
   "execution_count": null,
   "metadata": {},
   "outputs": [],
   "source": [
    "\"E:/GoogleNews-vectors-negative300.bin\"\n"
   ]
  },
  {
   "cell_type": "code",
   "execution_count": 5,
   "metadata": {},
   "outputs": [],
   "source": [
    "word_vectors=KeyedVectors.load_word2vec_format(\"E:/GoogleNews-vectors-negative300.bin\",binary=True)"
   ]
  },
  {
   "cell_type": "code",
   "execution_count": 29,
   "metadata": {},
   "outputs": [],
   "source": [
    "v_apple=word_vectors['India']\n",
    "v_mango=word_vectors['Apple']"
   ]
  },
  {
   "cell_type": "code",
   "execution_count": 30,
   "metadata": {},
   "outputs": [
    {
     "name": "stdout",
     "output_type": "stream",
     "text": [
      "(300,)\n",
      "(300,)\n"
     ]
    }
   ],
   "source": [
    "print(v_apple.shape)\n",
    "print(v_mango.shape)\n"
   ]
  },
  {
   "cell_type": "code",
   "execution_count": 31,
   "metadata": {},
   "outputs": [
    {
     "data": {
      "text/plain": [
       "array([[0.17654397]], dtype=float32)"
      ]
     },
     "execution_count": 31,
     "metadata": {},
     "output_type": "execute_result"
    }
   ],
   "source": [
    "cosine_similarity([v_apple],[v_mango])"
   ]
  },
  {
   "cell_type": "code",
   "execution_count": 41,
   "metadata": {},
   "outputs": [],
   "source": [
    "def findodd(words):\n",
    "    all_word_vectors=[word_vectors[w]   for w in words]\n",
    "    #print(len(all_word_vectors))\n",
    "    #print(all_word_vectors)\n",
    "    \n",
    "    average_vector=np.mean(all_word_vectors,axis=0)\n",
    "    print(average_vector.shape)\n",
    "    \n",
    "    \n",
    "    odd_one_out=None\n",
    "    min_similarity=1.0\n",
    "    \n",
    "    for w in words:\n",
    "        sim=cosine_similarity([word_vectors[w]],[average_vector])\n",
    "        \n",
    "        if sim<min_similarity:\n",
    "            min_similarity=sim\n",
    "            odd_one_out=w\n",
    "        print(\"Similarity b/w %s and average vector is %.2f\"%(w,sim))\n",
    "            \n",
    "    return odd_one_out\n",
    "    \n",
    "    \n",
    "    \n",
    "    \n",
    "    \n",
    "    \n",
    "    \n",
    "    \n",
    "    \n",
    "    "
   ]
  },
  {
   "cell_type": "code",
   "execution_count": 46,
   "metadata": {},
   "outputs": [
    {
     "name": "stdout",
     "output_type": "stream",
     "text": [
      "(300,)\n",
      "Similarity b/w india and average vector is 0.81\n",
      "Similarity b/w paris and average vector is 0.75\n",
      "Similarity b/w russia and average vector is 0.79\n",
      "Similarity b/w france and average vector is 0.81\n",
      "Similarity b/w germany and average vector is 0.84\n"
     ]
    },
    {
     "data": {
      "text/plain": [
       "'paris'"
      ]
     },
     "execution_count": 46,
     "metadata": {},
     "output_type": "execute_result"
    }
   ],
   "source": [
    "findodd(input4)"
   ]
  },
  {
   "cell_type": "code",
   "execution_count": 45,
   "metadata": {},
   "outputs": [],
   "source": [
    "input1=[\"apple\",\"mango\",\"juice\",\"party\",\"orange\"]\n",
    "input2=[\"music\",\"dance\",\"sleep\",\"dancer\",\"food\"]\n",
    "input3=[\"match\",\"player\",\"football\",\"cricket\",\"dancer\"]\n",
    "input4=[\"india\",\"paris\",\"russia\",\"france\",\"germany\"]"
   ]
  },
  {
   "cell_type": "code",
   "execution_count": null,
   "metadata": {},
   "outputs": [],
   "source": []
  },
  {
   "cell_type": "code",
   "execution_count": null,
   "metadata": {},
   "outputs": [],
   "source": []
  }
 ],
 "metadata": {
  "kernelspec": {
   "display_name": "Python 3",
   "language": "python",
   "name": "python3"
  },
  "language_info": {
   "codemirror_mode": {
    "name": "ipython",
    "version": 3
   },
   "file_extension": ".py",
   "mimetype": "text/x-python",
   "name": "python",
   "nbconvert_exporter": "python",
   "pygments_lexer": "ipython3",
   "version": "3.7.6"
  }
 },
 "nbformat": 4,
 "nbformat_minor": 4
}
